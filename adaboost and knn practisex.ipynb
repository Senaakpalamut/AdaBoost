{
 "cells": [
  {
   "cell_type": "code",
   "execution_count": 39,
   "id": "fe074eba",
   "metadata": {},
   "outputs": [],
   "source": [
    "import pandas as pd\n",
    "import csv\n",
    "import numpy as np\n",
    "\n",
    "\n",
    "from sklearn.ensemble import AdaBoostClassifier\n",
    "from sklearn.neighbors import KNeighborsClassifier\n",
    "from sklearn.cluster import KMeans\n",
    "\n",
    "from sklearn.metrics import precision_score\n",
    "from sklearn.metrics import recall_score\n",
    "from sklearn.metrics import f1_score\n"
   ]
  },
  {
   "cell_type": "code",
   "execution_count": 40,
   "id": "cd798609",
   "metadata": {},
   "outputs": [],
   "source": [
    "file_name= '/Users/senaakpalamut/Downloads/Friday-WorkingHours-Afternoon-DDos.pcap_ISCX.csv'\n",
    "data = []\n",
    "label = []\n",
    "header = []"
   ]
  },
  {
   "cell_type": "code",
   "execution_count": 41,
   "id": "7db7960a",
   "metadata": {},
   "outputs": [],
   "source": [
    "csv_file = open(file_name)\n",
    "csv_reader = csv.reader(csv_file)\n",
    "header = next(csv_reader)\n",
    "\n",
    "for row in csv_reader:\n",
    "    data.append(row[0:-2])\n",
    "    if row[-1] == 'BENING':\n",
    "        label.append(0)\n",
    "    else:\n",
    "        label.append(1)\n",
    "\n",
    "data_mat = np.array(data)\n",
    "label_mat = np.array(label)"
   ]
  },
  {
   "cell_type": "code",
   "execution_count": 17,
   "id": "405079a0",
   "metadata": {},
   "outputs": [
    {
     "data": {
      "text/plain": [
       "AdaBoostClassifier(n_estimators=10, random_state=0)"
      ]
     },
     "execution_count": 17,
     "metadata": {},
     "output_type": "execute_result"
    }
   ],
   "source": [
    "X= AdaBoostClassifier(n_estimators = 10, random_state=0)\n",
    "X.fit(data_mat, label_mat)"
   ]
  },
  {
   "cell_type": "code",
   "execution_count": 21,
   "id": "45a5137e",
   "metadata": {},
   "outputs": [
    {
     "name": "stdout",
     "output_type": "stream",
     "text": [
      "1.0\n",
      "1.0\n"
     ]
    }
   ],
   "source": [
    "label_hat = X.predict(data_mat)\n",
    "\n",
    "pr = precision_score(label_mat, label_hat)\n",
    "rc = recall_score(label_mat, label_hat)\n",
    "f1 = f1_score(label_mat, label_hat) \n",
    "\n",
    "print(pr)\n",
    "print(rc)"
   ]
  },
  {
   "cell_type": "code",
   "execution_count": null,
   "id": "e86dba28",
   "metadata": {},
   "outputs": [],
   "source": []
  }
 ],
 "metadata": {
  "kernelspec": {
   "display_name": "Python 3 (ipykernel)",
   "language": "python",
   "name": "python3"
  },
  "language_info": {
   "codemirror_mode": {
    "name": "ipython",
    "version": 3
   },
   "file_extension": ".py",
   "mimetype": "text/x-python",
   "name": "python",
   "nbconvert_exporter": "python",
   "pygments_lexer": "ipython3",
   "version": "3.9.12"
  }
 },
 "nbformat": 4,
 "nbformat_minor": 5
}
